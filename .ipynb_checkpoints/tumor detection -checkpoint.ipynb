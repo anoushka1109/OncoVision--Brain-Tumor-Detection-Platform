{
 "cells": [
  {
   "cell_type": "code",
   "execution_count": 1,
   "id": "425da3a4",
   "metadata": {},
   "outputs": [],
   "source": [
    "# Brain Tumor Detection using Machine Learning\n"
   ]
  },
  {
   "cell_type": "code",
   "execution_count": 2,
   "id": "159bc917",
   "metadata": {},
   "outputs": [],
   "source": [
    "# Importing important librarires"
   ]
  },
  {
   "cell_type": "code",
   "execution_count": 3,
   "id": "8a1f198e",
   "metadata": {},
   "outputs": [],
   "source": [
    "import os\n",
    "import numpy as np\n",
    "import matplotlib.pyplot as plt\n",
    "from tensorflow.keras.preprocessing.image import ImageDataGenerator\n",
    "from tensorflow.keras.models import Sequential\n",
    "from tensorflow.keras.layers import Conv2D, MaxPooling2D, Flatten, Dense\n",
    "from tensorflow.keras.optimizers import Adam\n",
    "from tensorflow.keras.callbacks import ModelCheckpoint\n",
    "from sklearn.model_selection import train_test_split\n",
    "from sklearn.metrics import classification_report, confusion_matrix\n",
    "from tensorflow.keras.preprocessing import image\n",
    "import seaborn as sns\n",
    "import pandas as pd\n",
    "\n"
   ]
  },
  {
   "cell_type": "code",
   "execution_count": 5,
   "id": "84fc2058",
   "metadata": {},
   "outputs": [],
   "source": [
    "# Step 1: Collect Data\n",
    "# Step 2: Preprocess Data"
   ]
  },
  {
   "cell_type": "code",
   "execution_count": 6,
   "id": "7b5db340",
   "metadata": {},
   "outputs": [],
   "source": [
    "img_width, img_height = 150, 150\n",
    "\n",
    "# Data directories\n",
    "with_tumor_dir = 'data/brain_tumor_dataset/yes'\n",
    "without_tumor_dir = 'data/brain_tumor_dataset/no'"
   ]
  },
  {
   "cell_type": "code",
   "execution_count": 7,
   "id": "35ae35a3",
   "metadata": {},
   "outputs": [],
   "source": [
    "# Step 3: Data Augmentation"
   ]
  },
  {
   "cell_type": "code",
   "execution_count": 8,
   "id": "ac5c64bb",
   "metadata": {
    "scrolled": true
   },
   "outputs": [
    {
     "name": "stdout",
     "output_type": "stream",
     "text": [
      "Found 203 images belonging to 2 classes.\n",
      "Found 50 images belonging to 2 classes.\n"
     ]
    }
   ],
   "source": [
    "datagen = ImageDataGenerator(\n",
    "    rescale=1./255,\n",
    "    shear_range=0.2,\n",
    "    zoom_range=0.2,\n",
    "    horizontal_flip=True,\n",
    "    validation_split=0.2\n",
    ")\n",
    "\n",
    "train_generator = datagen.flow_from_directory(\n",
    "    'data/brain_tumor_dataset',\n",
    "    target_size=(img_width, img_height),\n",
    "    batch_size=32,\n",
    "    class_mode='binary',\n",
    "    subset='training'\n",
    ")\n",
    "\n",
    "validation_generator = datagen.flow_from_directory(\n",
    "    'data/brain_tumor_dataset',\n",
    "    target_size=(img_width, img_height),\n",
    "    batch_size=32,\n",
    "    class_mode='binary',\n",
    "    subset='validation'\n",
    ")\n",
    "\n"
   ]
  },
  {
   "cell_type": "code",
   "execution_count": null,
   "id": "6cacf51c",
   "metadata": {
    "scrolled": true
   },
   "outputs": [],
   "source": [
    "# Step 4: Build the CNN Model"
   ]
  },
  {
   "cell_type": "code",
   "execution_count": null,
   "id": "15549568",
   "metadata": {},
   "outputs": [],
   "source": [
    "# model = Sequential()\n",
    "# model.add(Conv2D(32, (3, 3), input_shape=(img_width, img_height, 3), activation='relu'))\n",
    "# model.add(MaxPooling2D(pool_size=(2, 2)))\n",
    "# model.add(Conv2D(64, (3, 3), activation='relu'))\n",
    "# model.add(MaxPooling2D(pool_size=(2, 2)))\n",
    "# model.add(Flatten())\n",
    "# model.add(Dense(128, activation='relu'))\n",
    "# model.add(Dense(1, activation='sigmoid'))\n",
    "model = Sequential()\n",
    "model.add(Conv2D(64, (3, 3), input_shape=(img_width, img_height, 3), activation='relu'))\n",
    "model.add(MaxPooling2D(pool_size=(2, 2)))\n",
    "model.add(Conv2D(128, (3, 3), activation='relu'))\n",
    "model.add(MaxPooling2D(pool_size=(2, 2)))\n",
    "model.add(Conv2D(256, (3, 3), activation='relu'))\n",
    "model.add(MaxPooling2D(pool_size=(2, 2)))\n",
    "model.add(Flatten())\n",
    "model.add(Dense(512, activation='relu'))\n",
    "model.add(Dense(1, activation='sigmoid'))\n"
   ]
  },
  {
   "cell_type": "code",
   "execution_count": null,
   "id": "1e8fe575",
   "metadata": {},
   "outputs": [],
   "source": [
    "# Step 5: Compile the Model"
   ]
  },
  {
   "cell_type": "code",
   "execution_count": null,
   "id": "eab60770",
   "metadata": {},
   "outputs": [],
   "source": [
    "model.compile(optimizer=Adam(lr=0.001), loss='binary_crossentropy', metrics=['accuracy'])\n"
   ]
  },
  {
   "cell_type": "code",
   "execution_count": null,
   "id": "db087d7b",
   "metadata": {},
   "outputs": [],
   "source": [
    "# Step 6: Training"
   ]
  },
  {
   "cell_type": "code",
   "execution_count": null,
   "id": "6285dd54",
   "metadata": {},
   "outputs": [],
   "source": [
    "# checkpoint = ModelCheckpoint('model.h5', monitor='val_loss', save_best_only=True)\n",
    "# history = model.fit(train_generator, epochs=10, validation_data=validation_generator, callbacks=[checkpoint])\n",
    "checkpoint = ModelCheckpoint('model.h5', monitor='val_loss', save_best_only=True)\n",
    "history = model.fit(train_generator, epochs=20, validation_data=validation_generator, callbacks=[checkpoint])\n"
   ]
  },
  {
   "cell_type": "code",
   "execution_count": null,
   "id": "0691a0c2",
   "metadata": {
    "scrolled": false
   },
   "outputs": [],
   "source": [
    "final_train_accuracy = history.history['accuracy'][-1]\n",
    "final_validation_accuracy = history.history['val_accuracy'][-1]\n",
    "\n",
    "print(f'Final Training Accuracy: {final_train_accuracy:.4f}')\n",
    "print(f'Final Validation Accuracy: {final_validation_accuracy:.4f}')\n",
    "\n",
    "# Display confusion matrix\n",
    "validation_generator.reset()\n",
    "y_pred = model.predict(validation_generator)\n",
    "y_pred_classes = (y_pred > 0.5).astype(int)  # Assuming binary classification with a threshold of 0.5\n",
    "y_true = validation_generator.classes\n",
    "\n",
    "# Compute confusion matrix\n",
    "cm = confusion_matrix(y_true, y_pred_classes)\n",
    "\n",
    "# Create a DataFrame from the confusion matrix\n",
    "cm_df = pd.DataFrame(cm, index=['Actual Without Tumor', 'Actual With Tumor'], columns=['Predicted Without Tumor', 'Predicted With Tumor'])\n",
    "\n",
    "# Display the confusion matrix as a table\n",
    "plt.figure(figsize=(8, 6))\n",
    "sns.heatmap(cm_df, annot=True, fmt='d', cmap='Blues', cbar=False)\n",
    "plt.title('Confusion Matrix')\n",
    "plt.show()\n",
    "\n",
    "# Print classification report\n",
    "classification_rep = classification_report(y_true, y_pred_classes)\n",
    "print('Classification Report:')\n",
    "print(classification_rep)\n"
   ]
  },
  {
   "cell_type": "code",
   "execution_count": null,
   "id": "35288bbe",
   "metadata": {},
   "outputs": [],
   "source": [
    "# Step 7: Evaluate Performance"
   ]
  },
  {
   "cell_type": "code",
   "execution_count": null,
   "id": "94c2c12f",
   "metadata": {},
   "outputs": [],
   "source": [
    "plt.plot(history.history['accuracy'])\n",
    "plt.plot(history.history['val_accuracy'])\n",
    "plt.title('Model Accuracy')\n",
    "plt.xlabel('Epoch')\n",
    "plt.ylabel('Accuracy')\n",
    "plt.legend(['Train', 'Validation'], loc='upper left')\n",
    "plt.show()"
   ]
  },
  {
   "cell_type": "code",
   "execution_count": null,
   "id": "3d0bc422",
   "metadata": {},
   "outputs": [],
   "source": [
    "\n",
    "plt.plot(history.history['accuracy'])\n",
    "plt.plot(history.history['val_accuracy'])\n",
    "plt.title('Model Accuracy')\n",
    "plt.xlabel('Epoch')\n",
    "plt.ylabel('Accuracy')\n",
    "plt.legend(['Train', 'Validation'], loc='upper left')\n",
    "plt.show()\n",
    "\n",
    "# Print final training and validation accuracy\n",
    "final_train_accuracy = history.history['accuracy'][-1]\n",
    "final_validation_accuracy = history.history['val_accuracy'][-1]\n",
    "\n",
    "print(f'Final Training Accuracy: {final_train_accuracy:.4f}')\n",
    "print(f'Final Validation Accuracy: {final_validation_accuracy:.4f}')\n",
    "\n",
    "# Display confusion matrix\n",
    "validation_generator.reset()\n",
    "y_pred = model.predict(validation_generator)\n",
    "y_pred_classes = (y_pred > 0.5).astype(int)  # Assuming binary classification with a threshold of 0.5\n",
    "y_true = validation_generator.classes\n",
    "\n",
    "# Compute confusion matrix\n",
    "cm = confusion_matrix(y_true, y_pred_classes)\n",
    "\n",
    "# Create a DataFrame from the confusion matrix\n",
    "cm_df = pd.DataFrame(cm, index=['Actual Without Tumor', 'Actual With Tumor'], columns=['Predicted Without Tumor', 'Predicted With Tumor'])\n",
    "\n",
    "# Display the confusion matrix as a table\n",
    "plt.figure(figsize=(8, 6))\n",
    "sns.heatmap(cm_df, annot=True, fmt='d', cmap='Blues', cbar=False)\n",
    "plt.title('Confusion Matrix')\n",
    "plt.show()\n"
   ]
  },
  {
   "cell_type": "code",
   "execution_count": null,
   "id": "7c83c648",
   "metadata": {},
   "outputs": [],
   "source": [
    "# from sklearn.metrics import classification_report\n",
    "# # Print final training and validation accuracy\n",
    "# final_train_accuracy = history.history['accuracy'][-1]\n",
    "# final_validation_accuracy = history.history['val_accuracy'][-1]\n",
    "\n",
    "# print(f'Final Training Accuracy: {final_train_accuracy:.4f}')\n",
    "# print(f'Final Validation Accuracy: {final_validation_accuracy:.4f}')\n",
    "\n",
    "# # Display confusion matrix\n",
    "# validation_generator.reset()\n",
    "# y_pred = model.predict(validation_generator)\n",
    "# y_pred_classes = (y_pred > 0.5).astype(int)  # Assuming binary classification with a threshold of 0.5\n",
    "# y_true = validation_generator.classes\n",
    "\n",
    "# # Compute confusion matrix\n",
    "# cm = confusion_matrix(y_true, y_pred_classes)\n",
    "\n",
    "# # Create a DataFrame from the confusion matrix\n",
    "# cm_df = pd.DataFrame(cm, index=['Actual Without Tumor', 'Actual With Tumor'], columns=['Predicted Without Tumor', 'Predicted With Tumor'])\n",
    "\n",
    "# # Display the confusion matrix as a table\n",
    "# plt.figure(figsize=(8, 6))\n",
    "# sns.heatmap(cm_df, annot=True, fmt='d', cmap='Blues', cbar=False)\n",
    "# plt.title('Confusion Matrix')\n",
    "# plt.show()\n",
    "\n",
    "# # Print classification report\n",
    "# classification_rep = classification_report(y_true, y_pred_classes)\n",
    "# print('Classification Report:')\n",
    "# print(classification_rep)\n"
   ]
  },
  {
   "cell_type": "code",
   "execution_count": null,
   "id": "fe304f5f",
   "metadata": {},
   "outputs": [],
   "source": [
    "# Fine-Tuning"
   ]
  },
  {
   "cell_type": "code",
   "execution_count": null,
   "id": "4a3e622e",
   "metadata": {},
   "outputs": [],
   "source": [
    "from tensorflow.keras.optimizers import SGD\n",
    "for layer in model.layers[:10]:\n",
    "    layer.trainable = True\n",
    "\n",
    "# Compile the model with a smaller learning rate for fine-tuning\n",
    "model.compile(optimizer=SGD(lr=0.0001, momentum=0.9), loss='binary_crossentropy', metrics=['accuracy'])\n",
    "\n",
    "# Fine-tune the model\n",
    "fine_tune_history = model.fit(train_generator, epochs=5, validation_data=validation_generator)\n",
    "\n",
    "# Plot fine-tuning history\n",
    "plt.plot(fine_tune_history.history['accuracy'])\n",
    "plt.plot(fine_tune_history.history['val_accuracy'])\n",
    "plt.title('Fine-Tuning Model Accuracy')\n",
    "plt.xlabel('Epoch')\n",
    "plt.ylabel('Accuracy')\n",
    "plt.legend(['Train', 'Validation'], loc='upper left')\n",
    "plt.show()\n",
    "\n",
    "# Print final fine-tuning accuracy\n",
    "final_fine_tune_accuracy = fine_tune_history.history['accuracy'][-1]\n",
    "final_fine_tune_validation_accuracy = fine_tune_history.history['val_accuracy'][-1]\n",
    "\n",
    "print(f'Final Fine-Tuning Training Accuracy: {final_fine_tune_accuracy:.4f}')\n",
    "print(f'Final Fine-Tuning Validation Accuracy: {final_fine_tune_validation_accuracy:.4f}')"
   ]
  },
  {
   "cell_type": "code",
   "execution_count": null,
   "id": "9c30d03c",
   "metadata": {},
   "outputs": [],
   "source": [
    "from sklearn.metrics import classification_report\n",
    "# Print final training and validation accuracy\n",
    "final_train_accuracy = history.history['accuracy'][-1]\n",
    "final_validation_accuracy = history.history['val_accuracy'][-1]\n",
    "\n",
    "print(f'Final Training Accuracy: {final_train_accuracy:.4f}')\n",
    "print(f'Final Validation Accuracy: {final_validation_accuracy:.4f}')\n",
    "\n",
    "# Display confusion matrix\n",
    "validation_generator.reset()\n",
    "y_pred = model.predict(validation_generator)\n",
    "y_pred_classes = (y_pred > 0.5).astype(int)  # Assuming binary classification with a threshold of 0.5\n",
    "y_true = validation_generator.classes\n",
    "\n",
    "# Compute confusion matrix\n",
    "cm = confusion_matrix(y_true, y_pred_classes)\n",
    "\n",
    "# Create a DataFrame from the confusion matrix\n",
    "cm_df = pd.DataFrame(cm, index=['Actual Without Tumor', 'Actual With Tumor'], columns=['Predicted Without Tumor', 'Predicted With Tumor'])\n",
    "\n",
    "# Display the confusion matrix as a table\n",
    "plt.figure(figsize=(8, 6))\n",
    "sns.heatmap(cm_df, annot=True, fmt='d', cmap='Blues', cbar=False)\n",
    "plt.title('Confusion Matrix')\n",
    "plt.show()\n",
    "\n",
    "# Print classification report\n",
    "classification_rep = classification_report(y_true, y_pred_classes)\n",
    "print('Classification Report:')\n",
    "print(classification_rep)\n"
   ]
  },
  {
   "cell_type": "code",
   "execution_count": null,
   "id": "a82cbd7c",
   "metadata": {},
   "outputs": [],
   "source": [
    "#Visualization\n",
    "# Visualize some images with predictions"
   ]
  },
  {
   "cell_type": "code",
   "execution_count": null,
   "id": "5c371107",
   "metadata": {},
   "outputs": [],
   "source": [
    "def visualize_predictions(directory, num_images=5):\n",
    "    filenames = [os.path.join(directory, file) for file in os.listdir(directory)[:num_images]]\n",
    "    for filename in filenames:\n",
    "        img = image.load_img(filename, target_size=(img_width, img_height))\n",
    "        img_array = image.img_to_array(img)\n",
    "        img_array = np.expand_dims(img_array, axis=0) / 255.0\n",
    "        prediction = model.predict(img_array)\n",
    "        \n",
    "        plt.imshow(img)\n",
    "        plt.title(f'Prediction: {\"With Tumor\" if prediction > 0.5 else \"Without Tumor\"}')\n",
    "        plt.show()\n",
    "\n",
    "# Visualize predictions for images with tumor\n",
    "visualize_predictions(with_tumor_dir)\n",
    "\n",
    "# Visualize predictions for images without tumor\n",
    "visualize_predictions(without_tumor_dir)"
   ]
  }
 ],
 "metadata": {
  "kernelspec": {
   "display_name": "Python 3 (ipykernel)",
   "language": "python",
   "name": "python3"
  },
  "language_info": {
   "codemirror_mode": {
    "name": "ipython",
    "version": 3
   },
   "file_extension": ".py",
   "mimetype": "text/x-python",
   "name": "python",
   "nbconvert_exporter": "python",
   "pygments_lexer": "ipython3",
   "version": "3.10.9"
  }
 },
 "nbformat": 4,
 "nbformat_minor": 5
}
