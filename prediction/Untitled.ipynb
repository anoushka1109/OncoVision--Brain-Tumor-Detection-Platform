{
 "cells": [
  {
   "cell_type": "code",
   "execution_count": 1,
   "id": "491a969e",
   "metadata": {},
   "outputs": [
    {
     "name": "stderr",
     "output_type": "stream",
     "text": [
      "/Users/Nayyar/anaconda3/lib/python3.10/site-packages/tqdm/auto.py:22: TqdmWarning: IProgress not found. Please update jupyter and ipywidgets. See https://ipywidgets.readthedocs.io/en/stable/user_install.html\n",
      "  from .autonotebook import tqdm as notebook_tqdm\n"
     ]
    },
    {
     "ename": "ModuleNotFoundError",
     "evalue": "No module named 'model'",
     "output_type": "error",
     "traceback": [
      "\u001b[0;31m---------------------------------------------------------------------------\u001b[0m",
      "\u001b[0;31mModuleNotFoundError\u001b[0m                       Traceback (most recent call last)",
      "Cell \u001b[0;32mIn[1], line 8\u001b[0m\n\u001b[1;32m      6\u001b[0m \u001b[38;5;28;01mimport\u001b[39;00m \u001b[38;5;21;01mtorch\u001b[39;00m\n\u001b[1;32m      7\u001b[0m \u001b[38;5;28;01mfrom\u001b[39;00m \u001b[38;5;21;01mtorchvision\u001b[39;00m \u001b[38;5;28;01mimport\u001b[39;00m transforms\n\u001b[0;32m----> 8\u001b[0m \u001b[38;5;28;01mfrom\u001b[39;00m \u001b[38;5;21;01mmodel\u001b[39;00m \u001b[38;5;28;01mimport\u001b[39;00m CNN  \u001b[38;5;66;03m# Assuming you have already defined your CNN model\u001b[39;00m\n\u001b[1;32m     10\u001b[0m \u001b[38;5;28;01mclass\u001b[39;00m \u001b[38;5;21;01mTumorDetectionApp\u001b[39;00m:\n\u001b[1;32m     11\u001b[0m     \u001b[38;5;28;01mdef\u001b[39;00m \u001b[38;5;21m__init__\u001b[39m(\u001b[38;5;28mself\u001b[39m, master):\n",
      "\u001b[0;31mModuleNotFoundError\u001b[0m: No module named 'model'"
     ]
    }
   ],
   "source": [
    "import tkinter as tk\n",
    "from tkinter import filedialog, messagebox\n",
    "from PIL import Image, ImageTk\n",
    "import numpy as np\n",
    "import cv2\n",
    "import torch\n",
    "from torchvision import transforms\n",
    "from model import CNN  # Assuming you have already defined your CNN model\n",
    "\n",
    "class TumorDetectionApp:\n",
    "    def __init__(self, master):\n",
    "        self.master = master\n",
    "        self.master.title(\"Brain Tumor Detection App\")\n",
    "\n",
    "        self.model = CNN()  # Instantiate your model here\n",
    "        self.model.load_state_dict(torch.load('model.pth'))  # Load trained model weights\n",
    "\n",
    "        self.label = tk.Label(master, text=\"Select an MRI image:\")\n",
    "        self.label.pack()\n",
    "\n",
    "        self.load_button = tk.Button(master, text=\"Load Image\", command=self.load_image)\n",
    "        self.load_button.pack()\n",
    "\n",
    "        self.result_label = tk.Label(master, text=\"\")\n",
    "        self.result_label.pack()\n",
    "\n",
    "        self.image_label = tk.Label(master)\n",
    "        self.image_label.pack()\n",
    "\n",
    "    def load_image(self):\n",
    "        file_path = filedialog.askopenfilename(filetypes=[(\"Image files\", \"*.jpg;*.jpeg;*.png\")])\n",
    "        if file_path:\n",
    "            image = self.preprocess_image(file_path)\n",
    "            prediction = self.predict(image)\n",
    "            self.display_result(prediction)\n",
    "            self.display_image(file_path)\n",
    "\n",
    "    def preprocess_image(self, file_path):\n",
    "        image = cv2.imread(file_path)\n",
    "        image = cv2.cvtColor(image, cv2.COLOR_BGR2RGB)\n",
    "        image = cv2.resize(image, (128, 128))\n",
    "        image = np.transpose(image, (2, 0, 1))\n",
    "        image = image.astype(np.float32) / 255.0\n",
    "        image = torch.tensor(image)\n",
    "        image = image.unsqueeze(0)\n",
    "        return image\n",
    "\n",
    "    def predict(self, image):\n",
    "        with torch.no_grad():\n",
    "            self.model.eval()\n",
    "            prediction = self.model(image)\n",
    "            prediction = torch.sigmoid(prediction)\n",
    "            return prediction.item()\n",
    "\n",
    "    def display_result(self, prediction):\n",
    "        if prediction >= 0.5:\n",
    "            result = \"Tumor detected\"\n",
    "        else:\n",
    "            result = \"No tumor detected\"\n",
    "        self.result_label.config(text=result)\n",
    "\n",
    "    def display_image(self, file_path):\n",
    "        image = Image.open(file_path)\n",
    "        image.thumbnail((400, 400))\n",
    "        photo = ImageTk.PhotoImage(image)\n",
    "        self.image_label.config(image=photo)\n",
    "        self.image_label.image = photo\n",
    "\n",
    "def main():\n",
    "    root = tk.Tk()\n",
    "    app = TumorDetectionApp(root)\n",
    "    root.mainloop()\n",
    "\n",
    "if __name__ == \"__main__\":\n",
    "    main()\n"
   ]
  },
  {
   "cell_type": "code",
   "execution_count": null,
   "id": "15dfff1f",
   "metadata": {},
   "outputs": [],
   "source": []
  }
 ],
 "metadata": {
  "kernelspec": {
   "display_name": "Python 3 (ipykernel)",
   "language": "python",
   "name": "python3"
  },
  "language_info": {
   "codemirror_mode": {
    "name": "ipython",
    "version": 3
   },
   "file_extension": ".py",
   "mimetype": "text/x-python",
   "name": "python",
   "nbconvert_exporter": "python",
   "pygments_lexer": "ipython3",
   "version": "3.10.9"
  }
 },
 "nbformat": 4,
 "nbformat_minor": 5
}
